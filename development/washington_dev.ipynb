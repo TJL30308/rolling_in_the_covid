{
 "cells": [
  {
   "cell_type": "code",
   "execution_count": 1,
   "metadata": {},
   "outputs": [],
   "source": [
    "import requests\n",
    "import pandas as pd\n",
    "import numpy as np\n",
    "import seaborn as sns\n",
    "import matplotlib.pyplot as plt"
   ]
  },
  {
   "cell_type": "markdown",
   "metadata": {},
   "source": [
    "## Individual State Plots"
   ]
  },
  {
   "cell_type": "code",
   "execution_count": 2,
   "metadata": {},
   "outputs": [
    {
     "data": {
      "text/html": [
       "<div>\n",
       "<style scoped>\n",
       "    .dataframe tbody tr th:only-of-type {\n",
       "        vertical-align: middle;\n",
       "    }\n",
       "\n",
       "    .dataframe tbody tr th {\n",
       "        vertical-align: top;\n",
       "    }\n",
       "\n",
       "    .dataframe thead th {\n",
       "        text-align: right;\n",
       "    }\n",
       "</style>\n",
       "<table border=\"1\" class=\"dataframe\">\n",
       "  <thead>\n",
       "    <tr style=\"text-align: right;\">\n",
       "      <th></th>\n",
       "      <th>date</th>\n",
       "      <th>state</th>\n",
       "      <th>fips</th>\n",
       "      <th>cases</th>\n",
       "      <th>deaths</th>\n",
       "    </tr>\n",
       "  </thead>\n",
       "  <tbody>\n",
       "    <tr>\n",
       "      <th>0</th>\n",
       "      <td>2020-01-21</td>\n",
       "      <td>Washington</td>\n",
       "      <td>53</td>\n",
       "      <td>1</td>\n",
       "      <td>0</td>\n",
       "    </tr>\n",
       "    <tr>\n",
       "      <th>1</th>\n",
       "      <td>2020-01-22</td>\n",
       "      <td>Washington</td>\n",
       "      <td>53</td>\n",
       "      <td>1</td>\n",
       "      <td>0</td>\n",
       "    </tr>\n",
       "    <tr>\n",
       "      <th>2</th>\n",
       "      <td>2020-01-23</td>\n",
       "      <td>Washington</td>\n",
       "      <td>53</td>\n",
       "      <td>1</td>\n",
       "      <td>0</td>\n",
       "    </tr>\n",
       "    <tr>\n",
       "      <th>3</th>\n",
       "      <td>2020-01-24</td>\n",
       "      <td>Illinois</td>\n",
       "      <td>17</td>\n",
       "      <td>1</td>\n",
       "      <td>0</td>\n",
       "    </tr>\n",
       "    <tr>\n",
       "      <th>4</th>\n",
       "      <td>2020-01-24</td>\n",
       "      <td>Washington</td>\n",
       "      <td>53</td>\n",
       "      <td>1</td>\n",
       "      <td>0</td>\n",
       "    </tr>\n",
       "  </tbody>\n",
       "</table>\n",
       "</div>"
      ],
      "text/plain": [
       "         date       state  fips  cases  deaths\n",
       "0  2020-01-21  Washington    53      1       0\n",
       "1  2020-01-22  Washington    53      1       0\n",
       "2  2020-01-23  Washington    53      1       0\n",
       "3  2020-01-24    Illinois    17      1       0\n",
       "4  2020-01-24  Washington    53      1       0"
      ]
     },
     "execution_count": 2,
     "metadata": {},
     "output_type": "execute_result"
    }
   ],
   "source": [
    "url = 'https://raw.githubusercontent.com/nytimes/covid-19-data/master/us-states.csv'\n",
    "df = pd.read_csv(url, parse_dates=True)\n",
    "df.head()"
   ]
  },
  {
   "cell_type": "code",
   "execution_count": 3,
   "metadata": {},
   "outputs": [
    {
     "data": {
      "text/plain": [
       "55"
      ]
     },
     "execution_count": 3,
     "metadata": {},
     "output_type": "execute_result"
    }
   ],
   "source": [
    "states = df['state'].unique()\n",
    "len(states)"
   ]
  },
  {
   "cell_type": "code",
   "execution_count": 4,
   "metadata": {},
   "outputs": [],
   "source": [
    "for state in states:\n",
    "    df_state = df[df['state']==state]\n",
    "\n",
    "    dates = df_state['date']\n",
    "    new_dates = dates[1:]\n",
    "    cases = df_state['cases']\n",
    "    new_cases = np.diff(cases)\n",
    "    new_df = pd.DataFrame({'date': new_dates, \n",
    "              'new_cases': new_cases})\n",
    "\n",
    "    date_seventh = df_state['date'][::14]\n",
    "    rolling_cases = new_df['new_cases'].rolling(7).mean()\n",
    "    \n",
    "    fig, ax = plt.subplots(figsize=(10, 8))\n",
    "\n",
    "    right_side = ax.spines['right']\n",
    "    right_side.set_visible(False)\n",
    "    left_side = ax.spines['left']\n",
    "    left_side.set_visible(False)\n",
    "    top_side = ax.spines['top']\n",
    "    top_side.set_visible(False)\n",
    "    bottom_side = ax.spines['bottom']\n",
    "    bottom_side.set_visible(False)\n",
    "\n",
    "    line = plt.plot(new_df['date'], rolling_cases, color=(0.47, 0.40, 0.60))\n",
    "    bar = plt.bar(new_df['date'], new_df['new_cases'], color=(0.47, 0.40, 0.60), alpha=0.1, width=1)\n",
    "    plt.xticks(ticks=date_seventh[1:], rotation=45, fontname='Arial', fontsize=10)\n",
    "    # plt.title(f'New COVID-19 Cases {state}')\n",
    "    plt.ylabel('Cases (N)', fontname='Arial', fontsize=12)\n",
    "    plt.xlabel('Date', fontname='Arial', fontsize=12)\n",
    "    plt.fill_between(new_df['date'], rolling_cases, color=(0.47, 0.40, 0.60), alpha=0.5)\n",
    "    plt.legend(line, ('7 Day Rolling Average',), loc='upper left', frameon=False)\n",
    "    plt.savefig(f'plots/{state}_bar_roll_plot.png', dpi=None, facecolor='w', edgecolor='w', orientation='portrait')\n",
    "\n",
    "    # plt.show()\n",
    "    plt.close()"
   ]
  },
  {
   "cell_type": "markdown",
   "metadata": {},
   "source": [
    "## US Plot Below"
   ]
  },
  {
   "cell_type": "code",
   "execution_count": 5,
   "metadata": {},
   "outputs": [
    {
     "data": {
      "text/html": [
       "<div>\n",
       "<style scoped>\n",
       "    .dataframe tbody tr th:only-of-type {\n",
       "        vertical-align: middle;\n",
       "    }\n",
       "\n",
       "    .dataframe tbody tr th {\n",
       "        vertical-align: top;\n",
       "    }\n",
       "\n",
       "    .dataframe thead th {\n",
       "        text-align: right;\n",
       "    }\n",
       "</style>\n",
       "<table border=\"1\" class=\"dataframe\">\n",
       "  <thead>\n",
       "    <tr style=\"text-align: right;\">\n",
       "      <th></th>\n",
       "      <th>date</th>\n",
       "      <th>state</th>\n",
       "      <th>fips</th>\n",
       "      <th>cases</th>\n",
       "      <th>deaths</th>\n",
       "    </tr>\n",
       "  </thead>\n",
       "  <tbody>\n",
       "    <tr>\n",
       "      <th>0</th>\n",
       "      <td>2020-01-21</td>\n",
       "      <td>Washington</td>\n",
       "      <td>53</td>\n",
       "      <td>1</td>\n",
       "      <td>0</td>\n",
       "    </tr>\n",
       "    <tr>\n",
       "      <th>1</th>\n",
       "      <td>2020-01-22</td>\n",
       "      <td>Washington</td>\n",
       "      <td>53</td>\n",
       "      <td>1</td>\n",
       "      <td>0</td>\n",
       "    </tr>\n",
       "    <tr>\n",
       "      <th>2</th>\n",
       "      <td>2020-01-23</td>\n",
       "      <td>Washington</td>\n",
       "      <td>53</td>\n",
       "      <td>1</td>\n",
       "      <td>0</td>\n",
       "    </tr>\n",
       "    <tr>\n",
       "      <th>3</th>\n",
       "      <td>2020-01-24</td>\n",
       "      <td>Illinois</td>\n",
       "      <td>17</td>\n",
       "      <td>1</td>\n",
       "      <td>0</td>\n",
       "    </tr>\n",
       "    <tr>\n",
       "      <th>4</th>\n",
       "      <td>2020-01-24</td>\n",
       "      <td>Washington</td>\n",
       "      <td>53</td>\n",
       "      <td>1</td>\n",
       "      <td>0</td>\n",
       "    </tr>\n",
       "  </tbody>\n",
       "</table>\n",
       "</div>"
      ],
      "text/plain": [
       "         date       state  fips  cases  deaths\n",
       "0  2020-01-21  Washington    53      1       0\n",
       "1  2020-01-22  Washington    53      1       0\n",
       "2  2020-01-23  Washington    53      1       0\n",
       "3  2020-01-24    Illinois    17      1       0\n",
       "4  2020-01-24  Washington    53      1       0"
      ]
     },
     "execution_count": 5,
     "metadata": {},
     "output_type": "execute_result"
    }
   ],
   "source": [
    "df.head()"
   ]
  },
  {
   "cell_type": "code",
   "execution_count": 6,
   "metadata": {},
   "outputs": [],
   "source": [
    "df_us = df.groupby(['date']).sum()\n",
    "df_us = df_us.reset_index()\n",
    "us_cases = df_us['cases']\n",
    "us_dates = df_us['date']\n",
    "us_deaths = df_us['deaths']\n",
    "new_us_dates = us_dates[1:]\n",
    "\n",
    "new_us_cases = np.diff(us_cases)\n",
    "new_df = pd.DataFrame({'date': new_us_dates, \n",
    "                       'new_cases': new_us_cases})\n",
    "\n",
    "us_rolling_cases = new_df['new_cases'].rolling(7).mean()"
   ]
  },
  {
   "cell_type": "code",
   "execution_count": 7,
   "metadata": {},
   "outputs": [
    {
     "data": {
      "image/png": "[encoded data removed]",
      "text/plain": [
       "<Figure size 720x576 with 1 Axes>"
      ]
     },
     "metadata": {
      "needs_background": "light"
     },
     "output_type": "display_data"
    }
   ],
   "source": [
    "fig, ax = plt.subplots(figsize=(10, 8))\n",
    "\n",
    "right_side = ax.spines['right']\n",
    "right_side.set_visible(False)\n",
    "left_side = ax.spines['left']\n",
    "left_side.set_visible(False)\n",
    "top_side = ax.spines['top']\n",
    "top_side.set_visible(False)\n",
    "bottom_side = ax.spines['bottom']\n",
    "bottom_side.set_visible(False)\n",
    "\n",
    "us_line = plt.plot(new_us_dates, us_rolling_cases, color='r')\n",
    "plt.bar(new_us_dates, new_us_cases, color='r', alpha=0.1, width=1)\n",
    "plt.xticks(ticks=date_seventh, rotation=45, fontname='Arial', fontsize=10)\n",
    "plt.title(f'United States')\n",
    "plt.ylabel('Cases (N)', fontname='Arial', fontsize=12)\n",
    "plt.xlabel('Date', fontname='Arial', fontsize=12)\n",
    "# plt.fill_between(dates, us_rolling_cases, color=(0.47, 0.40, 0.60), alpha=0.5)\n",
    "plt.legend(us_line, ('7 Day Rolling Average',), loc='upper left', frameon=False)\n",
    "plt.savefig(f'plots/us_bar_roll_plot.png', dpi=None, facecolor='w', edgecolor='w', orientation='portrait')\n",
    "\n",
    "plt.show()"
   ]
  },
  {
   "cell_type": "code",
   "execution_count": null,
   "metadata": {},
   "outputs": [],
   "source": [
    "fig, ax = plt.subplots(figsize=(10, 8))\n",
    "\n",
    "right_side = ax.spines['right']\n",
    "right_side.set_visible(False)\n",
    "left_side = ax.spines['left']\n",
    "left_side.set_visible(False)\n",
    "top_side = ax.spines['top']\n",
    "top_side.set_visible(False)\n",
    "bottom_side = ax.spines['bottom']\n",
    "bottom_side.set_visible(False)\n",
    "\n",
    "us_line = plt.plot(us_dates, us_deaths, color='r')\n",
    "# plt.bar(new_us_dates, new_us_cases, color='r', alpha=0.1, width=1)\n",
    "plt.xticks(ticks=date_seventh[1:13], rotation=45, fontname='Arial', fontsize=10)\n",
    "plt.title(f'United States')\n",
    "plt.ylabel('Cases (N)', fontname='Arial', fontsize=12)\n",
    "plt.xlabel('Date', fontname='Arial', fontsize=12)\n",
    "# plt.fill_between(dates, us_rolling_cases, color=(0.47, 0.40, 0.60), alpha=0.5)\n",
    "plt.legend(us_line, ('Deaths from COVID-19',), loc='upper left', frameon=False)\n",
    "plt.savefig(f'plots/us_deaths_plot.png', dpi=None, facecolor='w', edgecolor='w', orientation='portrait')\n",
    "\n",
    "plt.show()"
   ]
  },
  {
   "cell_type": "code",
   "execution_count": null,
   "metadata": {},
   "outputs": [],
   "source": []
  }
 ],
 "metadata": {
  "kernelspec": {
   "display_name": "Python 3",
   "language": "python",
   "name": "python3"
  },
  "language_info": {
   "codemirror_mode": {
    "name": "ipython",
    "version": 3
   },
   "file_extension": ".py",
   "mimetype": "text/x-python",
   "name": "python",
   "nbconvert_exporter": "python",
   "pygments_lexer": "ipython3",
   "version": "3.8.0"
  }
 },
 "nbformat": 4,
 "nbformat_minor": 2
}
